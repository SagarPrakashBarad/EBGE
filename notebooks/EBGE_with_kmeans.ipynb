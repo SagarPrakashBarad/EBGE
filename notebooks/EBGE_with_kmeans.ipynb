{
 "cells": [
  {
   "cell_type": "code",
   "execution_count": 13,
   "metadata": {},
   "outputs": [],
   "source": [
    "import pandas as pd\n",
    "from sklearn.metrics import mean_absolute_error, mean_absolute_error, r2_score, accuracy_score, precision_score\n",
    "from sklearn.model_selection import train_test_split\n",
    "from joblib import dump, load\n",
    "import numpy as np\n",
    "from sklearn.preprocessing import LabelEncoder\n",
    "from sklearn.exceptions import DataConversionWarning\n",
    "from sklearn.metrics import make_scorer, f1_score\n",
    "import warnings\n",
    "warnings.filterwarnings(\"ignore\", category=UserWarning, message=\"X does not have valid feature names\", module=\"sklearn\")\n",
    "warnings.filterwarnings(\"ignore\", category=DataConversionWarning, module=\"sklearn\")"
   ]
  },
  {
   "cell_type": "code",
   "execution_count": 14,
   "metadata": {},
   "outputs": [],
   "source": [
    "df = pd.read_csv('_data/aflow_test_set.csv')\n",
    "\n",
    "X = df.drop(['Egap', 'is_metal', 'gap_type' ], axis=1)\n",
    "y1 = df['is_metal']\n",
    "y2 = df['Egap']\n",
    "y3 = df['gap_type']\n",
    "\n",
    "y1 = LabelEncoder().fit_transform(y1)\n",
    "y3 = LabelEncoder().fit_transform(y3)"
   ]
  },
  {
   "cell_type": "code",
   "execution_count": 15,
   "metadata": {},
   "outputs": [],
   "source": [
    "metal_nonmetal_classifier = load('models/metal_nonmetal_classifier.joblib')\n",
    "cluster_classifier = load('models/cluster_classification.joblib')\n",
    "\n",
    "classifiers = []\n",
    "regression_models = []\n",
    "for i in range(5):\n",
    "    classifiers.append(load('models/classifier_{}.joblib'.format(i)))\n",
    "    regression_models.append([load('models/regressor_{}_1.joblib'.format(i)),\n",
    "                              load('models/regressor_{}_2.joblib'.format(i))])"
   ]
  },
  {
   "cell_type": "code",
   "execution_count": 16,
   "metadata": {},
   "outputs": [],
   "source": [
    "def predict_bandgap(row):\n",
    "    feature_vector = row.values.reshape(1, -1)\n",
    "    # predict's metal or non-metal\n",
    "    metal_or_nonmetal = metal_nonmetal_classifier.predict(feature_vector)\n",
    "\n",
    "    if metal_or_nonmetal == 1:\n",
    "        # metal\n",
    "        return metal_or_nonmetal, 0, 2\n",
    "    else:\n",
    "        # non-metal\n",
    "        # predict's cluster assignment\n",
    "        cluster_assignment = cluster_classifier.predict(feature_vector)[0].astype(int)\n",
    "\n",
    "        bandgap_prediction = regression_models[cluster_assignment][1].predict(feature_vector).item()\n",
    "        gaptype_prediction = classifiers[cluster_assignment].predict(feature_vector)[0]\n",
    "\n",
    "        return metal_or_nonmetal, bandgap_prediction, gaptype_prediction"
   ]
  },
  {
   "cell_type": "code",
   "execution_count": 17,
   "metadata": {},
   "outputs": [],
   "source": [
    "metal_nonmetal_predictions = []\n",
    "gap_type_predictions = []\n",
    "band_gap_predictions = []\n",
    "\n",
    "for index, row in X.iterrows():\n",
    "    metal_or_nonmetal, band_gap_prediction, gap_type_prediction = predict_bandgap(row)\n",
    "    metal_nonmetal_prediction = 0 if metal_or_nonmetal == 0 else 1\n",
    "\n",
    "    metal_nonmetal_predictions.append(metal_nonmetal_prediction)\n",
    "    gap_type_predictions.append(gap_type_prediction)\n",
    "    band_gap_predictions.append(band_gap_prediction)"
   ]
  },
  {
   "cell_type": "code",
   "execution_count": 18,
   "metadata": {},
   "outputs": [
    {
     "name": "stdout",
     "output_type": "stream",
     "text": [
      "Accuracy for metal-nonmetal classifier: 0.9508\n",
      "F1 Score for metal-nonmetal classifier: 0.9521\n",
      "MAE for bandgap prediction:0.2321\n",
      "R2 Score for bandgap prediction:0.8930\n",
      "Accuracy for gap type classifier: 0.8770\n",
      "F1 Score for gap type classifier: 0.8769\n"
     ]
    }
   ],
   "source": [
    "accuracy_is_metal = accuracy_score(y1, metal_nonmetal_predictions)\n",
    "f1_score_is_metal = f1_score(y1, metal_nonmetal_predictions)\n",
    "mae = mean_absolute_error(y2, band_gap_predictions)\n",
    "r2_score = r2_score(y2, band_gap_predictions)\n",
    "accuracy_gap_type= accuracy_score(y3, gap_type_predictions)\n",
    "f1_score_gap_type = f1_score(y3, gap_type_predictions, average='weighted')\n",
    "\n",
    "\n",
    "# printing the evalution metrics\n",
    "print('Accuracy for metal-nonmetal classifier: {:.4f}' .format(accuracy_is_metal))\n",
    "print('F1 Score for metal-nonmetal classifier: {:.4f}' .format(f1_score_is_metal))\n",
    "\n",
    "print('MAE for bandgap prediction:{:.4f}' .format(mae))\n",
    "print('R2 Score for bandgap prediction:{:.4f}' .format(r2_score))\n",
    "\n",
    "print('Accuracy for gap type classifier: {:.4f}' .format(accuracy_gap_type))\n",
    "print('F1 Score for gap type classifier: {:.4f}' .format(f1_score_gap_type))"
   ]
  },
  {
   "attachments": {},
   "cell_type": "markdown",
   "metadata": {},
   "source": [
    "The final evaluation metric can be calculated as follows:\n",
    "\n",
    "$$ Evaluation Metric = 0.4 \\cdot F1_{metal} \\cdot (1 -  metal_{precision}) + 0.3 \\cdot (1 - MAE_{bandgap} / max_{bandgap}) + 0.3 \\cdot  F1_{gaptype} $$\n",
    "\n",
    "\n",
    "where:\n",
    "\n",
    "- `F1_{metal}` is the F1 score for the binary classification task of distinguishing between metal and non-metal materials\n",
    "- `metal_{precision}` is the precision of the binary classification task for metals\n",
    "- `MAE_{bandgap}` is the mean absolute error (MAE) for the regression task of predicting the band gap value for all materials in the dataset\n",
    "- `max_{bandgap}` is the maximum band gap value observed in the dataset\n",
    "- `F1_{gaptype}` is the F1 score for the multiclass classification task of predicting the band gap type for all materials in the dataset\n",
    "\n",
    "The weights for each component of the metric are as follows:\n",
    "\n",
    "- `0.4` for the metal classification task\n",
    "- `0.3` for the band gap regression task\n",
    "- `0.3` for the band gap type classification task\n",
    "\n",
    "The evaluation metric ranges from 0 to 1, where a score of 1 indicates perfect performance and a score of 0 indicates the worst possible performance.\n"
   ]
  },
  {
   "cell_type": "code",
   "execution_count": 19,
   "metadata": {},
   "outputs": [
    {
     "name": "stdout",
     "output_type": "stream",
     "text": [
      "The Evaluation Metric for the model: 0.9336\n"
     ]
    }
   ],
   "source": [
    "w_metal = 0.3\n",
    "w_bandgap = 0.4\n",
    "w_type = 0.3\n",
    "\n",
    "def eval_metric(y1_pred, y2_pred, y3_pred, y1_test, y2_test, y3_test):\n",
    "    \n",
    "    # f1 score and precision for metal-nonmetal classification\n",
    "    f1_metal = f1_score(y1_pred, y1_test, pos_label=1)\n",
    "    precision_metal = precision_score(y1_pred, y1_test, pos_label=1)\n",
    "    \n",
    "    # Penalize metrics for metal-nonmetal classification\n",
    "    penalty = w_metal * (1 - precision_metal)\n",
    "    \n",
    "    # MAE for band gap prediction\n",
    "    mae_bandgap = mean_absolute_error(y2_pred, y2_test)\n",
    "    \n",
    "    # MAE normalized by the maximum band gap value\n",
    "    max_bandgap = np.max(y2_test)\n",
    "    norm_mae_bandgap = mae_bandgap / max_bandgap\n",
    "    \n",
    "    # f1 score for gap type classification\n",
    "    f1_type = f1_score(y3_pred, y3_test, average='weighted')\n",
    "    \n",
    "    # overall metric\n",
    "    score = 1 - (penalty + w_bandgap * norm_mae_bandgap + w_type * (1 - f1_type))\n",
    "    \n",
    "    return score\n",
    "\n",
    "score = eval_metric(metal_nonmetal_predictions, band_gap_predictions, gap_type_predictions, y1, y2, y3)\n",
    "\n",
    "print('The Evaluation Metric for the model: {:.4f}' .format(score))"
   ]
  }
 ],
 "metadata": {
  "kernelspec": {
   "display_name": "sagar-sajag",
   "language": "python",
   "name": "python3"
  },
  "language_info": {
   "codemirror_mode": {
    "name": "ipython",
    "version": 3
   },
   "file_extension": ".py",
   "mimetype": "text/x-python",
   "name": "python",
   "nbconvert_exporter": "python",
   "pygments_lexer": "ipython3",
   "version": "3.8.10"
  },
  "orig_nbformat": 4
 },
 "nbformat": 4,
 "nbformat_minor": 2
}
