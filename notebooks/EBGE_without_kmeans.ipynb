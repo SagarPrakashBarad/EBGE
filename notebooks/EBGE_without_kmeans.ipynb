{
 "cells": [
  {
   "cell_type": "code",
   "execution_count": 14,
   "metadata": {},
   "outputs": [],
   "source": [
    "import pandas as pd\n",
    "from sklearn.metrics import mean_absolute_error, mean_absolute_error, r2_score, accuracy_score, precision_score\n",
    "from sklearn.model_selection import train_test_split\n",
    "from joblib import dump, load\n",
    "from sklearn.preprocessing import LabelEncoder\n",
    "import numpy as np\n",
    "from sklearn.metrics import make_scorer, f1_score\n",
    "from sklearn.exceptions import DataConversionWarning\n",
    "import warnings\n",
    "warnings.filterwarnings(\"ignore\", category=UserWarning, message=\"X does not have valid feature names\", module=\"sklearn\")\n",
    "warnings.filterwarnings(\"ignore\", category=DataConversionWarning, module=\"sklearn\")\n",
    "warnings.filterwarnings(\"ignore\", category=DeprecationWarning)"
   ]
  },
  {
   "cell_type": "code",
   "execution_count": 15,
   "metadata": {},
   "outputs": [],
   "source": [
    "df = pd.read_csv('_data/aflow_test_set.csv')\n",
    "\n",
    "X = df.drop(['Egap', 'is_metal', 'gap_type'], axis=1)\n",
    "y1 = df['is_metal']\n",
    "y2 = df['Egap']\n",
    "y3 = df['gap_type']\n",
    "\n",
    "y1 = LabelEncoder().fit_transform(y1)\n",
    "y3 = LabelEncoder().fit_transform(y3)"
   ]
  },
  {
   "cell_type": "code",
   "execution_count": 16,
   "metadata": {},
   "outputs": [],
   "source": [
    "metal_nonmetal_classifier = load('models/metal_nonmetal_classifier.joblib')\n",
    "band_gap_predictor = load('models/rfr_regressor.joblib')\n",
    "gap_type_classifier = load('models/gaptype_classifier.joblib')"
   ]
  },
  {
   "cell_type": "code",
   "execution_count": 17,
   "metadata": {},
   "outputs": [],
   "source": [
    "def predict_properties(material):\n",
    "\n",
    "    # Predict whether it's a metal or non metal\n",
    "    is_metal = metal_nonmetal_classifier.predict(material.values.reshape(1, -1))[0]\n",
    "\n",
    "    if is_metal:\n",
    "        # If it's a metal, predict that its band gap is zero and gap type is non existent\n",
    "        band_gap = 0\n",
    "        gap_type = 2\n",
    "    else:\n",
    "        # If it's a non-metal, predict its band gap and gap type\n",
    "        band_gap = band_gap_predictor.predict(material.values.reshape(1, -1))[0]\n",
    "        gap_type = gap_type_classifier.predict(material.values.reshape(1, -1))[0]\n",
    "\n",
    "    # Return the predicted properties as a tuple\n",
    "    return is_metal, band_gap, gap_type"
   ]
  },
  {
   "cell_type": "code",
   "execution_count": 18,
   "metadata": {},
   "outputs": [],
   "source": [
    "# Predict the properties for all the materials in the test set\n",
    "predicted_properties = np.array([predict_properties(material) for index, material in X.iterrows()])\n",
    "predicted_properties = predicted_properties.astype(np.float)"
   ]
  },
  {
   "cell_type": "code",
   "execution_count": 19,
   "metadata": {},
   "outputs": [
    {
     "name": "stdout",
     "output_type": "stream",
     "text": [
      "Accuracy for metal-nonmetal classifier: 0.9508\n",
      "F1 Score for metal-nonmetal classifier: 0.9521\n",
      "MAE for bandgap prediction:0.2496\n",
      "R2 Score for bandgap prediction:0.8906\n",
      "Accuracy for gap type classifier: 0.8665\n",
      "F1 Score for gap type classifier: 0.8659\n"
     ]
    }
   ],
   "source": [
    "is_metal_x = predicted_properties[:, 0].astype(int)\n",
    "band_gap = predicted_properties[:, 1].astype(float)\n",
    "gap_type = predicted_properties[:, 2].astype(int)\n",
    "\n",
    "accuracy_is_metal = accuracy_score(y1, is_metal_x)\n",
    "f1_score_is_metal = f1_score(y1, is_metal_x)\n",
    "mae = mean_absolute_error(y2, band_gap)\n",
    "r2_score = r2_score(y2, band_gap)\n",
    "accuracy_gap_type= accuracy_score(y3, gap_type)\n",
    "f1_score_gap_type = f1_score(y3, gap_type, average='weighted')\n",
    "\n",
    "\n",
    "# Print the evaluation metrics\n",
    "print('Accuracy for metal-nonmetal classifier: {:.4f}' .format(accuracy_is_metal))\n",
    "print('F1 Score for metal-nonmetal classifier: {:.4f}' .format(f1_score_is_metal))\n",
    "\n",
    "print('MAE for bandgap prediction:{:.4f}' .format(mae))\n",
    "print('R2 Score for bandgap prediction:{:.4f}' .format(r2_score))\n",
    "\n",
    "print('Accuracy for gap type classifier: {:.4f}' .format(accuracy_gap_type))\n",
    "print('F1 Score for gap type classifier: {:.4f}' .format(f1_score_gap_type))"
   ]
  },
  {
   "cell_type": "code",
   "execution_count": 20,
   "metadata": {},
   "outputs": [
    {
     "name": "stdout",
     "output_type": "stream",
     "text": [
      "The Evaluation Metric for the model: 0.9299\n"
     ]
    }
   ],
   "source": [
    "w_metal = 0.3\n",
    "w_bandgap = 0.4\n",
    "w_type = 0.3\n",
    "\n",
    "def eval_metric(y1_pred, y2_pred, y3_pred, y1_test, y2_test, y3_test):\n",
    "    \n",
    "    # f1 score and precision for metal-nonmetal classification\n",
    "    f1_metal = f1_score(y1_pred, y1_test, pos_label=1)\n",
    "    precision_metal = precision_score(y1_pred, y1_test, pos_label=1)\n",
    "    \n",
    "    # Penalize metrics for metal-nonmetal classification\n",
    "    penalty = w_metal * (1 - precision_metal)\n",
    "    \n",
    "    # MAE for band gap prediction\n",
    "    mae_bandgap = mean_absolute_error(y2_pred, y2_test)\n",
    "    \n",
    "    # MAE normalized by the maximum band gap value\n",
    "    max_bandgap = np.max(y2_test)\n",
    "    norm_mae_bandgap = mae_bandgap / max_bandgap\n",
    "    \n",
    "    # f1 score for gap type classification\n",
    "    f1_type = f1_score(y3_pred, y3_test, average='weighted')\n",
    "    \n",
    "    # overall metric\n",
    "    score = 1 - (penalty + w_bandgap * norm_mae_bandgap + w_type * (1 - f1_type))\n",
    "    \n",
    "    return score\n",
    "\n",
    "score = eval_metric(is_metal_x, band_gap, gap_type, y1, y2, y3)\n",
    "\n",
    "print('The Evaluation Metric for the model: {:.4f}' .format(score))"
   ]
  }
 ],
 "metadata": {
  "kernelspec": {
   "display_name": "sagar-sajag",
   "language": "python",
   "name": "python3"
  },
  "language_info": {
   "codemirror_mode": {
    "name": "ipython",
    "version": 3
   },
   "file_extension": ".py",
   "mimetype": "text/x-python",
   "name": "python",
   "nbconvert_exporter": "python",
   "pygments_lexer": "ipython3",
   "version": "3.8.10"
  },
  "orig_nbformat": 4
 },
 "nbformat": 4,
 "nbformat_minor": 2
}
