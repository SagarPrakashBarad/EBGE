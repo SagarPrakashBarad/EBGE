{
 "cells": [
  {
   "cell_type": "code",
   "execution_count": 1,
   "metadata": {},
   "outputs": [],
   "source": [
    "import pandas as pd"
   ]
  },
  {
   "cell_type": "code",
   "execution_count": 3,
   "metadata": {},
   "outputs": [],
   "source": [
    "data = pd.read_csv('../_data/aflow_training_set_with_cluster_label.csv')\n",
    "data = data.drop(columns=['Unnamed: 0'], axis=1)\n",
    "\n",
    "cluster_groups = data.groupby('cluster_label')\n",
    "\n",
    "with open('cluster_summary.txt', 'w') as f:\n",
    "    for label, cluster in cluster_groups:\n",
    "        f.write(f\"Cluster {label}: {len(cluster)} samples\\n\")\n",
    "        cluster_summary = cluster.describe()\n",
    "        f.write(f\"{cluster_summary}\\n\")\n",
    "        \n",
    "        cat_vars = ['is_metal', 'gap_type']\n",
    "        for var in cat_vars:\n",
    "            freq = cluster[var].value_counts(normalize=True)\n",
    "            f.write(f\"{var} frequencies:\\n{freq}\\n\")\n",
    "        \n",
    "        num_vars = ['Egap']\n",
    "        for var in num_vars:\n",
    "            mean = cluster[var].mean()\n",
    "            std = cluster[var].std()\n",
    "            f.write(f\"{var} mean: {mean:.2f}, std: {std:.2f}\\n\")\n",
    "        \n",
    "        f.write('\\n')"
   ]
  }
 ],
 "metadata": {
  "kernelspec": {
   "display_name": "sagar-sajag",
   "language": "python",
   "name": "python3"
  },
  "language_info": {
   "codemirror_mode": {
    "name": "ipython",
    "version": 3
   },
   "file_extension": ".py",
   "mimetype": "text/x-python",
   "name": "python",
   "nbconvert_exporter": "python",
   "pygments_lexer": "ipython3",
   "version": "3.8.10"
  },
  "orig_nbformat": 4
 },
 "nbformat": 4,
 "nbformat_minor": 2
}
